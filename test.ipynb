{
 "cells": [
  {
   "cell_type": "code",
   "execution_count": 1,
   "metadata": {},
   "outputs": [],
   "source": [
    "import cv2\n",
    "import numpy as np \n",
    "import argparse\n",
    "import time\n",
    "import collections\n",
    "from playsound import playsound\n",
    "import simpleaudio as sa\n",
    "from gtts import gTTS \n",
    "import os\n"
   ]
  },
  {
   "cell_type": "code",
   "execution_count": 2,
   "metadata": {},
   "outputs": [],
   "source": [
    "def load_yolo():\n",
    "\tnet = cv2.dnn.readNet(\"darknet/yolov4-custom_best.weights\", \"darknet/cfg/yolov4-custom.cfg\")\n",
    "\tclasses = []\n",
    "\twith open(\"darknet/data/piford.names\", \"r\") as f:\n",
    "\t\tclasses = [line.strip() for line in f.readlines()] \n",
    "\t\n",
    "\toutput_layers = [layer_name for layer_name in net.getUnconnectedOutLayersNames()]\n",
    "\tcolors = np.random.uniform(0, 255, size=(len(classes), 3))\n",
    "\treturn net, classes, colors, output_layers"
   ]
  },
  {
   "cell_type": "code",
   "execution_count": 3,
   "metadata": {},
   "outputs": [],
   "source": [
    "def detect_objects(img, net, outputLayers):\t\t\t\n",
    "\tblob = cv2.dnn.blobFromImage(img, scalefactor=0.00392, size=(832, 832), mean=(0, 0, 0), swapRB=True, crop=False)\n",
    "\tnet.setInput(blob)\n",
    "\toutputs = net.forward(outputLayers)\n",
    "\treturn blob, outputs"
   ]
  },
  {
   "cell_type": "code",
   "execution_count": 4,
   "metadata": {},
   "outputs": [],
   "source": [
    "def get_box_dimensions(outputs, height, width):\n",
    "\tboxes = []\n",
    "\tconfs = []\n",
    "\tclass_ids = []\n",
    "\tfor output in outputs:\n",
    "\t\tfor detect in output:\n",
    "\t\t\tscores = detect[5:]\n",
    "\t\t\t#print(scores)\n",
    "\t\t\tclass_id = np.argmax(scores)\n",
    "\t\t\tconf = scores[class_id]\n",
    "\t\t\tif conf > 0.3:\n",
    "\t\t\t\tcenter_x = int(detect[0] * width)\n",
    "\t\t\t\tcenter_y = int(detect[1] * height)\n",
    "\t\t\t\tw = int(detect[2] * width)\n",
    "\t\t\t\th = int(detect[3] * height)\n",
    "\t\t\t\tx = int(center_x - w/2)\n",
    "\t\t\t\ty = int(center_y - h / 2)\n",
    "\t\t\t\tboxes.append([x, y, w, h])\n",
    "\t\t\t\tconfs.append(float(conf))\n",
    "\t\t\t\tclass_ids.append(class_id)\n",
    "\treturn boxes, confs, class_ids"
   ]
  },
  {
   "cell_type": "code",
   "execution_count": 5,
   "metadata": {},
   "outputs": [],
   "source": [
    "def draw_labels(boxes, confs, colors, class_ids, classes, img): \n",
    "\tindexes = cv2.dnn.NMSBoxes(boxes, confs, 0.5, 0.4)\n",
    "\tfont = cv2.FONT_HERSHEY_PLAIN\n",
    "\tfor i in range(len(boxes)):\n",
    "\t\tif i in indexes:\n",
    "\t\t\tx, y, w, h = boxes[i]\n",
    "\t\t\tlabel = str(classes[class_ids[i]])\n",
    "\t\t\t#color = colors[i]\n",
    "\t\t\tcolor = (255,0,0)\n",
    "\t\t\tif label==\"ifrsuit\":\n",
    "\t\t\t\tcolor = (0,255,0)\n",
    "\t\t\telse:\n",
    "\t\t\t\tcolor = (0,0,255)\n",
    "\t\t\tcv2.rectangle(img, (x,y), (x+w, y+h), color, 2)\n",
    "\t\t\tcv2.putText(img, label, (x, y - 5), font, 2, color, 2)    \n",
    "\treturn img"
   ]
  },
  {
   "cell_type": "code",
   "execution_count": 6,
   "metadata": {},
   "outputs": [],
   "source": [
    "def get_text(img):\n",
    "\tmodel, classes, colors, output_layers = load_yolo()\n",
    "\theight, width,channels = img.shape\n",
    "\tblob, outputs = detect_objects(img, model, output_layers)\n",
    "\tboxes, confs, class_ids = get_box_dimensions(outputs, height, width)\n",
    "\tfinalImg = draw_labels(boxes, confs, colors, class_ids, classes, img)\n",
    "\t# print(class_ids)\n",
    "\tcv2.imwrite(\"predicted.png\",finalImg)\n",
    "\treturn class_ids\n",
    "\t"
   ]
  },
  {
   "cell_type": "code",
   "execution_count": 7,
   "metadata": {},
   "outputs": [],
   "source": [
    "def gts(cls):\n",
    "    mytext=\"\"\n",
    "    if cls==\"10\":\n",
    "        mytext=\"10 Rupee Note\"\n",
    "        print('Playing 10 Note MP3')\n",
    "    if cls==\"20\":\n",
    "        mytext=\"20 Rupee Note\"\n",
    "        print('Playing 20 Note MP3')\n",
    "    if cls==\"50\":\n",
    "        mytext=\"50 Rupee Note\"\n",
    "        print('Playing 50 Note MP3')\n",
    "    if cls==\"100\":\n",
    "        mytext=\"100 Rupee Note\"\n",
    "        print('Playing 100 Note MP3')\n",
    "    if cls==\"200\":\n",
    "        mytext=\"200 Rupee Note\"\n",
    "        print('Playing 200 Note MP3')\n",
    "    if cls==\"500\":\n",
    "        mytext=\"500 Rupee Note\"\n",
    "        print('Playing 500 Note MP3')\n",
    "    if cls==\"2000\":\n",
    "        mytext=\"2000 Rupee Note\"\n",
    "        print('Playing 2000 Note MP3')\n",
    "\n",
    "    myobj = gTTS(text=mytext, lang='en', slow=False)\n",
    "    myobj.save(\"audio/predicted.mp3\")\n",
    "    os.system(\"mpg321 audio/predicted.mp3\")\n",
    "    playsound('audio/predicted.mp3')\n",
    "    os.remove('audio/predicted.mp3')\n"
   ]
  },
  {
   "cell_type": "code",
   "execution_count": 9,
   "metadata": {},
   "outputs": [
    {
     "name": "stdout",
     "output_type": "stream",
     "text": [
      "Predicted Note is  10\n",
      "Playing 10 Note MP3\n"
     ]
    }
   ],
   "source": [
    "predicted_cls={0:10, 1:20, 2:50, 3:100, 4:200, 5:500, 6:2000}\n",
    "hash_map={0:0, 1:0, 2:0, 3:0, 4:0, 5:0, 6:0}\n",
    "\n",
    "if __name__==\"__main__\":\n",
    "\n",
    "        img=cv2.imread('Testing/10.jpg')\n",
    "        class_ids=get_text(img)\n",
    "        for key in class_ids:\n",
    "                hash_map[key]+=1\n",
    "        Keymax = max(zip(hash_map.values(), hash_map.keys()))[1]\n",
    "        # print(Keymax)\n",
    "        print(\"Predicted Note is \",predicted_cls[Keymax])\n",
    "        gts(str(predicted_cls[Keymax]))"
   ]
  }
 ],
 "metadata": {
  "kernelspec": {
   "display_name": "Python 3.11.0 64-bit",
   "language": "python",
   "name": "python3"
  },
  "language_info": {
   "codemirror_mode": {
    "name": "ipython",
    "version": 3
   },
   "file_extension": ".py",
   "mimetype": "text/x-python",
   "name": "python",
   "nbconvert_exporter": "python",
   "pygments_lexer": "ipython3",
   "version": "3.11.0"
  },
  "orig_nbformat": 4,
  "vscode": {
   "interpreter": {
    "hash": "44947e572d273f436727b7fbffe90962d1e85a99a9040b75a9a3b1879db05cd3"
   }
  }
 },
 "nbformat": 4,
 "nbformat_minor": 2
}
